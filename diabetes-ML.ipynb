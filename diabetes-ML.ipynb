{
 "cells": [
  {
   "cell_type": "markdown",
   "id": "d2622739",
   "metadata": {},
   "source": [
    "# Predicting Diabetes with Machine Learning Models"
   ]
  },
  {
   "cell_type": "markdown",
   "id": "8a723e08",
   "metadata": {},
   "source": [
    "Here we use machine learning models for predicting diabetes in the [PIMA dataset](https://www.kaggle.com/uciml/pima-indians-diabetes-database) originally from the National Institute of Diabetes and Digestive and Kidney Diseases. Several constraints were placed on the selection of these instances from a larger database. In particular, all patients here are females at least 21 years old of Pima Indian heritage."
   ]
  },
  {
   "cell_type": "markdown",
   "id": "759ddc0e",
   "metadata": {},
   "source": [
    "## Method"
   ]
  },
  {
   "cell_type": "markdown",
   "id": "350ead56",
   "metadata": {},
   "source": [
    "We develop our analysis in three steps.\n",
    "\n",
    "1. Import and cleaning the data\n",
    "2. Exploratory Data Analysis\n",
    "3. Machine Learning Training and Predictions\n",
    "\n",
    "We check for null values in the data and find that a reasonable amount of Insulin levels and Skin Thickness values need to be replaced, a procedure called __imputation__. A good practice is to replace by the mean value of these quantities. However, this makes the distributions too sharp. Therefore, we produce _normally distributed_ imputation values. Then we move on for some extra exploratory data analysis, on the number of pregnancies per age, the insulin distribution, and the proportion of diabetic patients. This is important to check imbalances in the data. Finally, we train a __Logistic Regression__ estimator to predict diabetes in the dataset. We reach a Sensitivity of 57.8%, a Specificity of 83%, and an Area Under the Curve (AUC) score of 0.82."
   ]
  },
  {
   "cell_type": "markdown",
   "id": "5e5d905a",
   "metadata": {},
   "source": [
    "## 1. Importing and Cleaning the Data"
   ]
  },
  {
   "cell_type": "code",
   "execution_count": 148,
   "id": "8ec56939",
   "metadata": {},
   "outputs": [
    {
     "data": {
      "text/html": [
       "<div>\n",
       "<style scoped>\n",
       "    .dataframe tbody tr th:only-of-type {\n",
       "        vertical-align: middle;\n",
       "    }\n",
       "\n",
       "    .dataframe tbody tr th {\n",
       "        vertical-align: top;\n",
       "    }\n",
       "\n",
       "    .dataframe thead th {\n",
       "        text-align: right;\n",
       "    }\n",
       "</style>\n",
       "<table border=\"1\" class=\"dataframe\">\n",
       "  <thead>\n",
       "    <tr style=\"text-align: right;\">\n",
       "      <th></th>\n",
       "      <th>Pregnancies</th>\n",
       "      <th>Glucose</th>\n",
       "      <th>BloodPressure</th>\n",
       "      <th>SkinThickness</th>\n",
       "      <th>Insulin</th>\n",
       "      <th>BMI</th>\n",
       "      <th>DiabetesPedigreeFunction</th>\n",
       "      <th>Age</th>\n",
       "      <th>Outcome</th>\n",
       "    </tr>\n",
       "  </thead>\n",
       "  <tbody>\n",
       "    <tr>\n",
       "      <th>0</th>\n",
       "      <td>6</td>\n",
       "      <td>148</td>\n",
       "      <td>72</td>\n",
       "      <td>35</td>\n",
       "      <td>0</td>\n",
       "      <td>33.6</td>\n",
       "      <td>0.627</td>\n",
       "      <td>50</td>\n",
       "      <td>1</td>\n",
       "    </tr>\n",
       "    <tr>\n",
       "      <th>1</th>\n",
       "      <td>1</td>\n",
       "      <td>85</td>\n",
       "      <td>66</td>\n",
       "      <td>29</td>\n",
       "      <td>0</td>\n",
       "      <td>26.6</td>\n",
       "      <td>0.351</td>\n",
       "      <td>31</td>\n",
       "      <td>0</td>\n",
       "    </tr>\n",
       "    <tr>\n",
       "      <th>2</th>\n",
       "      <td>8</td>\n",
       "      <td>183</td>\n",
       "      <td>64</td>\n",
       "      <td>0</td>\n",
       "      <td>0</td>\n",
       "      <td>23.3</td>\n",
       "      <td>0.672</td>\n",
       "      <td>32</td>\n",
       "      <td>1</td>\n",
       "    </tr>\n",
       "    <tr>\n",
       "      <th>3</th>\n",
       "      <td>1</td>\n",
       "      <td>89</td>\n",
       "      <td>66</td>\n",
       "      <td>23</td>\n",
       "      <td>94</td>\n",
       "      <td>28.1</td>\n",
       "      <td>0.167</td>\n",
       "      <td>21</td>\n",
       "      <td>0</td>\n",
       "    </tr>\n",
       "    <tr>\n",
       "      <th>4</th>\n",
       "      <td>0</td>\n",
       "      <td>137</td>\n",
       "      <td>40</td>\n",
       "      <td>35</td>\n",
       "      <td>168</td>\n",
       "      <td>43.1</td>\n",
       "      <td>2.288</td>\n",
       "      <td>33</td>\n",
       "      <td>1</td>\n",
       "    </tr>\n",
       "  </tbody>\n",
       "</table>\n",
       "</div>"
      ],
      "text/plain": [
       "   Pregnancies  Glucose  BloodPressure  SkinThickness  Insulin   BMI  \\\n",
       "0            6      148             72             35        0  33.6   \n",
       "1            1       85             66             29        0  26.6   \n",
       "2            8      183             64              0        0  23.3   \n",
       "3            1       89             66             23       94  28.1   \n",
       "4            0      137             40             35      168  43.1   \n",
       "\n",
       "   DiabetesPedigreeFunction  Age  Outcome  \n",
       "0                     0.627   50        1  \n",
       "1                     0.351   31        0  \n",
       "2                     0.672   32        1  \n",
       "3                     0.167   21        0  \n",
       "4                     2.288   33        1  "
      ]
     },
     "execution_count": 148,
     "metadata": {},
     "output_type": "execute_result"
    }
   ],
   "source": [
    "import pandas as pd\n",
    "import numpy as np\n",
    "import matplotlib.pyplot as plt\n",
    "import seaborn as sns\n",
    "\n",
    "sns.set()\n",
    "\n",
    "df = pd.read_csv('diabetes.csv')\n",
    "df.head()"
   ]
  },
  {
   "cell_type": "code",
   "execution_count": 149,
   "id": "f0131af7",
   "metadata": {},
   "outputs": [
    {
     "name": "stdout",
     "output_type": "stream",
     "text": [
      "<class 'pandas.core.frame.DataFrame'>\n",
      "RangeIndex: 768 entries, 0 to 767\n",
      "Data columns (total 9 columns):\n",
      " #   Column                    Non-Null Count  Dtype  \n",
      "---  ------                    --------------  -----  \n",
      " 0   Pregnancies               768 non-null    int64  \n",
      " 1   Glucose                   768 non-null    int64  \n",
      " 2   BloodPressure             768 non-null    int64  \n",
      " 3   SkinThickness             768 non-null    int64  \n",
      " 4   Insulin                   768 non-null    int64  \n",
      " 5   BMI                       768 non-null    float64\n",
      " 6   DiabetesPedigreeFunction  768 non-null    float64\n",
      " 7   Age                       768 non-null    int64  \n",
      " 8   Outcome                   768 non-null    int64  \n",
      "dtypes: float64(2), int64(7)\n",
      "memory usage: 54.1 KB\n"
     ]
    }
   ],
   "source": [
    "df.info()"
   ]
  },
  {
   "cell_type": "code",
   "execution_count": 150,
   "id": "eca97bc7",
   "metadata": {},
   "outputs": [
    {
     "data": {
      "text/html": [
       "<div>\n",
       "<style scoped>\n",
       "    .dataframe tbody tr th:only-of-type {\n",
       "        vertical-align: middle;\n",
       "    }\n",
       "\n",
       "    .dataframe tbody tr th {\n",
       "        vertical-align: top;\n",
       "    }\n",
       "\n",
       "    .dataframe thead th {\n",
       "        text-align: right;\n",
       "    }\n",
       "</style>\n",
       "<table border=\"1\" class=\"dataframe\">\n",
       "  <thead>\n",
       "    <tr style=\"text-align: right;\">\n",
       "      <th></th>\n",
       "      <th>Pregnancies</th>\n",
       "      <th>Glucose</th>\n",
       "      <th>BloodPressure</th>\n",
       "      <th>SkinThickness</th>\n",
       "      <th>Insulin</th>\n",
       "      <th>BMI</th>\n",
       "      <th>DiabetesPedigreeFunction</th>\n",
       "      <th>Age</th>\n",
       "      <th>Outcome</th>\n",
       "    </tr>\n",
       "  </thead>\n",
       "  <tbody>\n",
       "    <tr>\n",
       "      <th>count</th>\n",
       "      <td>768.000000</td>\n",
       "      <td>768.000000</td>\n",
       "      <td>768.000000</td>\n",
       "      <td>768.000000</td>\n",
       "      <td>768.000000</td>\n",
       "      <td>768.000000</td>\n",
       "      <td>768.000000</td>\n",
       "      <td>768.000000</td>\n",
       "      <td>768.000000</td>\n",
       "    </tr>\n",
       "    <tr>\n",
       "      <th>mean</th>\n",
       "      <td>3.845052</td>\n",
       "      <td>120.894531</td>\n",
       "      <td>69.105469</td>\n",
       "      <td>20.536458</td>\n",
       "      <td>79.799479</td>\n",
       "      <td>31.992578</td>\n",
       "      <td>0.471876</td>\n",
       "      <td>33.240885</td>\n",
       "      <td>0.348958</td>\n",
       "    </tr>\n",
       "    <tr>\n",
       "      <th>std</th>\n",
       "      <td>3.369578</td>\n",
       "      <td>31.972618</td>\n",
       "      <td>19.355807</td>\n",
       "      <td>15.952218</td>\n",
       "      <td>115.244002</td>\n",
       "      <td>7.884160</td>\n",
       "      <td>0.331329</td>\n",
       "      <td>11.760232</td>\n",
       "      <td>0.476951</td>\n",
       "    </tr>\n",
       "    <tr>\n",
       "      <th>min</th>\n",
       "      <td>0.000000</td>\n",
       "      <td>0.000000</td>\n",
       "      <td>0.000000</td>\n",
       "      <td>0.000000</td>\n",
       "      <td>0.000000</td>\n",
       "      <td>0.000000</td>\n",
       "      <td>0.078000</td>\n",
       "      <td>21.000000</td>\n",
       "      <td>0.000000</td>\n",
       "    </tr>\n",
       "    <tr>\n",
       "      <th>25%</th>\n",
       "      <td>1.000000</td>\n",
       "      <td>99.000000</td>\n",
       "      <td>62.000000</td>\n",
       "      <td>0.000000</td>\n",
       "      <td>0.000000</td>\n",
       "      <td>27.300000</td>\n",
       "      <td>0.243750</td>\n",
       "      <td>24.000000</td>\n",
       "      <td>0.000000</td>\n",
       "    </tr>\n",
       "    <tr>\n",
       "      <th>50%</th>\n",
       "      <td>3.000000</td>\n",
       "      <td>117.000000</td>\n",
       "      <td>72.000000</td>\n",
       "      <td>23.000000</td>\n",
       "      <td>30.500000</td>\n",
       "      <td>32.000000</td>\n",
       "      <td>0.372500</td>\n",
       "      <td>29.000000</td>\n",
       "      <td>0.000000</td>\n",
       "    </tr>\n",
       "    <tr>\n",
       "      <th>75%</th>\n",
       "      <td>6.000000</td>\n",
       "      <td>140.250000</td>\n",
       "      <td>80.000000</td>\n",
       "      <td>32.000000</td>\n",
       "      <td>127.250000</td>\n",
       "      <td>36.600000</td>\n",
       "      <td>0.626250</td>\n",
       "      <td>41.000000</td>\n",
       "      <td>1.000000</td>\n",
       "    </tr>\n",
       "    <tr>\n",
       "      <th>max</th>\n",
       "      <td>17.000000</td>\n",
       "      <td>199.000000</td>\n",
       "      <td>122.000000</td>\n",
       "      <td>99.000000</td>\n",
       "      <td>846.000000</td>\n",
       "      <td>67.100000</td>\n",
       "      <td>2.420000</td>\n",
       "      <td>81.000000</td>\n",
       "      <td>1.000000</td>\n",
       "    </tr>\n",
       "  </tbody>\n",
       "</table>\n",
       "</div>"
      ],
      "text/plain": [
       "       Pregnancies     Glucose  BloodPressure  SkinThickness     Insulin  \\\n",
       "count   768.000000  768.000000     768.000000     768.000000  768.000000   \n",
       "mean      3.845052  120.894531      69.105469      20.536458   79.799479   \n",
       "std       3.369578   31.972618      19.355807      15.952218  115.244002   \n",
       "min       0.000000    0.000000       0.000000       0.000000    0.000000   \n",
       "25%       1.000000   99.000000      62.000000       0.000000    0.000000   \n",
       "50%       3.000000  117.000000      72.000000      23.000000   30.500000   \n",
       "75%       6.000000  140.250000      80.000000      32.000000  127.250000   \n",
       "max      17.000000  199.000000     122.000000      99.000000  846.000000   \n",
       "\n",
       "              BMI  DiabetesPedigreeFunction         Age     Outcome  \n",
       "count  768.000000                768.000000  768.000000  768.000000  \n",
       "mean    31.992578                  0.471876   33.240885    0.348958  \n",
       "std      7.884160                  0.331329   11.760232    0.476951  \n",
       "min      0.000000                  0.078000   21.000000    0.000000  \n",
       "25%     27.300000                  0.243750   24.000000    0.000000  \n",
       "50%     32.000000                  0.372500   29.000000    0.000000  \n",
       "75%     36.600000                  0.626250   41.000000    1.000000  \n",
       "max     67.100000                  2.420000   81.000000    1.000000  "
      ]
     },
     "execution_count": 150,
     "metadata": {},
     "output_type": "execute_result"
    }
   ],
   "source": [
    "df.describe()"
   ]
  },
  {
   "cell_type": "markdown",
   "id": "f82d5d30",
   "metadata": {},
   "source": [
    "Although there are no NaN values, there are zero values in skin thickness and insulin. We will replace these by the average values of the non-zero observations via an imputer in a ML pipeline. But first let us replace zeros by NaNs, as those are easier to handle with pandas."
   ]
  },
  {
   "cell_type": "code",
   "execution_count": 151,
   "id": "6ac6f419",
   "metadata": {},
   "outputs": [
    {
     "data": {
      "text/html": [
       "<div>\n",
       "<style scoped>\n",
       "    .dataframe tbody tr th:only-of-type {\n",
       "        vertical-align: middle;\n",
       "    }\n",
       "\n",
       "    .dataframe tbody tr th {\n",
       "        vertical-align: top;\n",
       "    }\n",
       "\n",
       "    .dataframe thead th {\n",
       "        text-align: right;\n",
       "    }\n",
       "</style>\n",
       "<table border=\"1\" class=\"dataframe\">\n",
       "  <thead>\n",
       "    <tr style=\"text-align: right;\">\n",
       "      <th></th>\n",
       "      <th>Pregnancies</th>\n",
       "      <th>Glucose</th>\n",
       "      <th>BloodPressure</th>\n",
       "      <th>SkinThickness</th>\n",
       "      <th>Insulin</th>\n",
       "      <th>BMI</th>\n",
       "      <th>DiabetesPedigreeFunction</th>\n",
       "      <th>Age</th>\n",
       "      <th>Outcome</th>\n",
       "    </tr>\n",
       "  </thead>\n",
       "  <tbody>\n",
       "    <tr>\n",
       "      <th>0</th>\n",
       "      <td>6</td>\n",
       "      <td>148</td>\n",
       "      <td>72</td>\n",
       "      <td>35.0</td>\n",
       "      <td>NaN</td>\n",
       "      <td>33.6</td>\n",
       "      <td>0.627</td>\n",
       "      <td>50</td>\n",
       "      <td>1</td>\n",
       "    </tr>\n",
       "    <tr>\n",
       "      <th>1</th>\n",
       "      <td>1</td>\n",
       "      <td>85</td>\n",
       "      <td>66</td>\n",
       "      <td>29.0</td>\n",
       "      <td>NaN</td>\n",
       "      <td>26.6</td>\n",
       "      <td>0.351</td>\n",
       "      <td>31</td>\n",
       "      <td>0</td>\n",
       "    </tr>\n",
       "    <tr>\n",
       "      <th>2</th>\n",
       "      <td>8</td>\n",
       "      <td>183</td>\n",
       "      <td>64</td>\n",
       "      <td>NaN</td>\n",
       "      <td>NaN</td>\n",
       "      <td>23.3</td>\n",
       "      <td>0.672</td>\n",
       "      <td>32</td>\n",
       "      <td>1</td>\n",
       "    </tr>\n",
       "    <tr>\n",
       "      <th>3</th>\n",
       "      <td>1</td>\n",
       "      <td>89</td>\n",
       "      <td>66</td>\n",
       "      <td>23.0</td>\n",
       "      <td>94.0</td>\n",
       "      <td>28.1</td>\n",
       "      <td>0.167</td>\n",
       "      <td>21</td>\n",
       "      <td>0</td>\n",
       "    </tr>\n",
       "    <tr>\n",
       "      <th>4</th>\n",
       "      <td>0</td>\n",
       "      <td>137</td>\n",
       "      <td>40</td>\n",
       "      <td>35.0</td>\n",
       "      <td>168.0</td>\n",
       "      <td>43.1</td>\n",
       "      <td>2.288</td>\n",
       "      <td>33</td>\n",
       "      <td>1</td>\n",
       "    </tr>\n",
       "  </tbody>\n",
       "</table>\n",
       "</div>"
      ],
      "text/plain": [
       "   Pregnancies  Glucose  BloodPressure  SkinThickness  Insulin   BMI  \\\n",
       "0            6      148             72           35.0      NaN  33.6   \n",
       "1            1       85             66           29.0      NaN  26.6   \n",
       "2            8      183             64            NaN      NaN  23.3   \n",
       "3            1       89             66           23.0     94.0  28.1   \n",
       "4            0      137             40           35.0    168.0  43.1   \n",
       "\n",
       "   DiabetesPedigreeFunction  Age  Outcome  \n",
       "0                     0.627   50        1  \n",
       "1                     0.351   31        0  \n",
       "2                     0.672   32        1  \n",
       "3                     0.167   21        0  \n",
       "4                     2.288   33        1  "
      ]
     },
     "execution_count": 151,
     "metadata": {},
     "output_type": "execute_result"
    }
   ],
   "source": [
    "for col in ['Insulin', 'SkinThickness']:\n",
    "    df[col].replace(0, np.nan, inplace=True)\n",
    "df.head()"
   ]
  },
  {
   "cell_type": "markdown",
   "id": "7c17d5ca",
   "metadata": {},
   "source": [
    "Could we drop all NaNs? No, because we miss too many observations!"
   ]
  },
  {
   "cell_type": "code",
   "execution_count": 152,
   "id": "6f7d315f",
   "metadata": {},
   "outputs": [
    {
     "name": "stdout",
     "output_type": "stream",
     "text": [
      "374 missed observations out of 768\n"
     ]
    }
   ],
   "source": [
    "df_drop = df.dropna()\n",
    "print(\"{} missed observations out of {}\".format(df.shape[0] - df_drop.shape[0], df.shape[0]))"
   ]
  },
  {
   "cell_type": "markdown",
   "id": "88144b45",
   "metadata": {},
   "source": [
    "We can replace NaNs by the mean value of each column:"
   ]
  },
  {
   "cell_type": "code",
   "execution_count": 153,
   "id": "914c5920",
   "metadata": {},
   "outputs": [
    {
     "name": "stdout",
     "output_type": "stream",
     "text": [
      "155.55 29.11\n"
     ]
    }
   ],
   "source": [
    "mean_insulin = np.round(df_drop.Insulin.mean(),2)\n",
    "mean_skin = np.round(df_drop.SkinThickness.mean(),2)\n",
    "print(mean_insulin, mean_skin)\n",
    "\n",
    "df_impute = df.replace({'Insulin': {np.nan : mean_insulin}, 'SkinThickness' : {np.nan : mean_skin}})"
   ]
  },
  {
   "cell_type": "markdown",
   "id": "7c0d7d2d",
   "metadata": {},
   "source": [
    "If we compare the new distributions, we see huge spikes in the mean value. "
   ]
  },
  {
   "cell_type": "code",
   "execution_count": 176,
   "id": "7c58abd8",
   "metadata": {},
   "outputs": [
    {
     "data": {
      "image/png": "[encoded data removed]",
      "text/plain": [
       "<Figure size 1440x1800 with 6 Axes>"
      ]
     },
     "metadata": {},
     "output_type": "display_data"
    }
   ],
   "source": [
    "fig, ax = plt.subplots(ncols=2, nrows=3, figsize=(20,25))\n",
    "\n",
    "sns.histplot(x=df.Insulin, ax=ax[0,0]);\n",
    "sns.histplot(x=df_impute.Insulin, color='orange',ax=ax[0,0]);\n",
    "sns.histplot(x=df.SkinThickness, ax=ax[0,1]);\n",
    "sns.histplot(x=df_impute.SkinThickness, color='orange', ax=ax[0,1]);\n",
    "\n",
    "sns.boxplot(x=df.Outcome, y=df.Insulin, ax=ax[1,0]);\n",
    "sns.boxplot(x=df_impute.Outcome, y=df_impute.Insulin, ax=ax[1,1]);\n",
    "sns.boxplot(x=df.Outcome, y=df.SkinThickness, ax=ax[2,0]);\n",
    "sns.boxplot(x=df_impute.Outcome, y=df_impute.SkinThickness, ax=ax[2,1]);"
   ]
  },
  {
   "cell_type": "markdown",
   "id": "7fc8698c",
   "metadata": {},
   "source": [
    "This suggests that we are replacing to many values and skewing our distribution. The bottom boxplots show that the variance becomes much smaller for the imputed distributions, specially for the Insulin levels. Therefore, we should not replace all the empty values by the mean, but also spread them with the original variance."
   ]
  },
  {
   "cell_type": "code",
   "execution_count": 155,
   "id": "7c4e1d0a",
   "metadata": {},
   "outputs": [],
   "source": [
    "std_insulin = np.round(df_drop.Insulin.std(),2)\n",
    "std_skin = np.round(df_drop.SkinThickness.std(),2)\n",
    "\n",
    "normal_insulin = np.random.normal(mean_insulin, std_insulin, 10000)\n",
    "normal_skin = np.random.normal(mean_skin, std_skin, 10000)\n",
    "\n",
    "# Choose only positive values among the distribution\n",
    "normal_insulin = np.random.choice(normal_insulin[normal_insulin > 0],len(df[df.Insulin.isna()]))\n",
    "normal_skin = np.random.choice(normal_skin[normal_skin > 0],len(df[df.SkinThickness.isna()]))"
   ]
  },
  {
   "cell_type": "code",
   "execution_count": 156,
   "id": "af8c8173",
   "metadata": {
    "scrolled": false
   },
   "outputs": [
    {
     "data": {
      "image/png": "[encoded data removed]",
      "text/plain": [
       "<Figure size 1440x576 with 2 Axes>"
      ]
     },
     "metadata": {},
     "output_type": "display_data"
    }
   ],
   "source": [
    "fig, ax = plt.subplots(ncols=2,figsize=(20,8))\n",
    "\n",
    "sns.histplot(x=df.Insulin, ax=ax[0]);\n",
    "sns.histplot(normal_insulin, color='orange',ax=ax[0]);\n",
    "sns.histplot(x=df.SkinThickness, ax=ax[1]);\n",
    "sns.histplot(normal_skin, color='orange', ax=ax[1]);"
   ]
  },
  {
   "cell_type": "code",
   "execution_count": 157,
   "id": "93026086",
   "metadata": {},
   "outputs": [],
   "source": [
    "df_insulin = pd.DataFrame({'Insulin': normal_insulin}, index=df[df.Insulin.isna()].index.values)\n",
    "df.Insulin.fillna(df_insulin.Insulin, inplace=True)\n",
    "\n",
    "df_skin = pd.DataFrame({'SkinThickness': normal_skin}, index=df[df.SkinThickness.isna()].index.values)\n",
    "df.SkinThickness.fillna(df_skin.SkinThickness, inplace=True)"
   ]
  },
  {
   "cell_type": "code",
   "execution_count": 158,
   "id": "23c2450d",
   "metadata": {
    "scrolled": true
   },
   "outputs": [
    {
     "data": {
      "text/html": [
       "<div>\n",
       "<style scoped>\n",
       "    .dataframe tbody tr th:only-of-type {\n",
       "        vertical-align: middle;\n",
       "    }\n",
       "\n",
       "    .dataframe tbody tr th {\n",
       "        vertical-align: top;\n",
       "    }\n",
       "\n",
       "    .dataframe thead th {\n",
       "        text-align: right;\n",
       "    }\n",
       "</style>\n",
       "<table border=\"1\" class=\"dataframe\">\n",
       "  <thead>\n",
       "    <tr style=\"text-align: right;\">\n",
       "      <th></th>\n",
       "      <th>Pregnancies</th>\n",
       "      <th>Glucose</th>\n",
       "      <th>BloodPressure</th>\n",
       "      <th>SkinThickness</th>\n",
       "      <th>Insulin</th>\n",
       "      <th>BMI</th>\n",
       "      <th>DiabetesPedigreeFunction</th>\n",
       "      <th>Age</th>\n",
       "      <th>Outcome</th>\n",
       "    </tr>\n",
       "  </thead>\n",
       "  <tbody>\n",
       "    <tr>\n",
       "      <th>0</th>\n",
       "      <td>6</td>\n",
       "      <td>148</td>\n",
       "      <td>72</td>\n",
       "      <td>35.000000</td>\n",
       "      <td>8.830521</td>\n",
       "      <td>33.6</td>\n",
       "      <td>0.627</td>\n",
       "      <td>50</td>\n",
       "      <td>1</td>\n",
       "    </tr>\n",
       "    <tr>\n",
       "      <th>1</th>\n",
       "      <td>1</td>\n",
       "      <td>85</td>\n",
       "      <td>66</td>\n",
       "      <td>29.000000</td>\n",
       "      <td>167.130982</td>\n",
       "      <td>26.6</td>\n",
       "      <td>0.351</td>\n",
       "      <td>31</td>\n",
       "      <td>0</td>\n",
       "    </tr>\n",
       "    <tr>\n",
       "      <th>2</th>\n",
       "      <td>8</td>\n",
       "      <td>183</td>\n",
       "      <td>64</td>\n",
       "      <td>12.397622</td>\n",
       "      <td>184.558848</td>\n",
       "      <td>23.3</td>\n",
       "      <td>0.672</td>\n",
       "      <td>32</td>\n",
       "      <td>1</td>\n",
       "    </tr>\n",
       "    <tr>\n",
       "      <th>3</th>\n",
       "      <td>1</td>\n",
       "      <td>89</td>\n",
       "      <td>66</td>\n",
       "      <td>23.000000</td>\n",
       "      <td>94.000000</td>\n",
       "      <td>28.1</td>\n",
       "      <td>0.167</td>\n",
       "      <td>21</td>\n",
       "      <td>0</td>\n",
       "    </tr>\n",
       "    <tr>\n",
       "      <th>4</th>\n",
       "      <td>0</td>\n",
       "      <td>137</td>\n",
       "      <td>40</td>\n",
       "      <td>35.000000</td>\n",
       "      <td>168.000000</td>\n",
       "      <td>43.1</td>\n",
       "      <td>2.288</td>\n",
       "      <td>33</td>\n",
       "      <td>1</td>\n",
       "    </tr>\n",
       "  </tbody>\n",
       "</table>\n",
       "</div>"
      ],
      "text/plain": [
       "   Pregnancies  Glucose  BloodPressure  SkinThickness     Insulin   BMI  \\\n",
       "0            6      148             72      35.000000    8.830521  33.6   \n",
       "1            1       85             66      29.000000  167.130982  26.6   \n",
       "2            8      183             64      12.397622  184.558848  23.3   \n",
       "3            1       89             66      23.000000   94.000000  28.1   \n",
       "4            0      137             40      35.000000  168.000000  43.1   \n",
       "\n",
       "   DiabetesPedigreeFunction  Age  Outcome  \n",
       "0                     0.627   50        1  \n",
       "1                     0.351   31        0  \n",
       "2                     0.672   32        1  \n",
       "3                     0.167   21        0  \n",
       "4                     2.288   33        1  "
      ]
     },
     "execution_count": 158,
     "metadata": {},
     "output_type": "execute_result"
    }
   ],
   "source": [
    "df.head()"
   ]
  },
  {
   "cell_type": "code",
   "execution_count": 180,
   "id": "77a0d3c4",
   "metadata": {},
   "outputs": [
    {
     "data": {
      "image/png": "[encoded data removed]",
      "text/plain": [
       "<Figure size 1440x576 with 2 Axes>"
      ]
     },
     "metadata": {},
     "output_type": "display_data"
    }
   ],
   "source": [
    "fig, ax = plt.subplots(ncols=2, figsize=(20,8))\n",
    "\n",
    "sns.boxplot(x=df.Outcome, y=df.Insulin, ax=ax[0]);\n",
    "sns.boxplot(x=df.Outcome, y=df.SkinThickness, ax=ax[1]);"
   ]
  },
  {
   "cell_type": "markdown",
   "id": "dfff1e9a",
   "metadata": {},
   "source": [
    "Those distributions now do not contain empty values and those were replaced by normally distributed values around the mean."
   ]
  },
  {
   "cell_type": "markdown",
   "id": "16e48e85",
   "metadata": {},
   "source": [
    "## 2. Exploratory Data Analysis"
   ]
  },
  {
   "cell_type": "markdown",
   "id": "59ab549b",
   "metadata": {},
   "source": [
    "We can now make some exploratory plots. Let us check the age distribution of the patients."
   ]
  },
  {
   "cell_type": "code",
   "execution_count": 181,
   "id": "78240880",
   "metadata": {},
   "outputs": [
    {
     "data": {
      "image/png": "[encoded data removed]",
      "text/plain": [
       "<Figure size 432x288 with 1 Axes>"
      ]
     },
     "metadata": {},
     "output_type": "display_data"
    }
   ],
   "source": [
    "sns.histplot(x='Age', data=df_impute, bins=int(np.sqrt(len(df_impute))));"
   ]
  },
  {
   "cell_type": "markdown",
   "id": "7c1677fb",
   "metadata": {},
   "source": [
    "We see that most patients are young, with ages between 20 and 30 years old. \n",
    "\n",
    "Is there any relation between the number of pregnancies and the age?"
   ]
  },
  {
   "cell_type": "code",
   "execution_count": 80,
   "id": "60510f40",
   "metadata": {},
   "outputs": [
    {
     "data": {
      "image/png": "[encoded data removed]",
      "text/plain": [
       "<Figure size 504x504 with 3 Axes>"
      ]
     },
     "metadata": {},
     "output_type": "display_data"
    }
   ],
   "source": [
    "g = sns.jointplot(data=df_impute, x='Age', y='Pregnancies', kind='reg', height=7)"
   ]
  },
  {
   "cell_type": "markdown",
   "id": "75df79b3",
   "metadata": {},
   "source": [
    "We see a clear tendency of older women having more pregnancies. Moreover, the histograms in the sides confirm that younger women tend to have less than 3 pregnancies."
   ]
  },
  {
   "cell_type": "markdown",
   "id": "3f784a45",
   "metadata": {},
   "source": [
    "Now let us check the distribution of Insulin levels between patients that have diabetes or not. Should this be higher for diabetic patients?"
   ]
  },
  {
   "cell_type": "code",
   "execution_count": 206,
   "id": "d7b63fd4",
   "metadata": {},
   "outputs": [
    {
     "data": {
      "image/png": "[encoded data removed]",
      "text/plain": [
       "<Figure size 432x288 with 1 Axes>"
      ]
     },
     "metadata": {},
     "output_type": "display_data"
    }
   ],
   "source": [
    "sns.boxplot(x='Outcome', y='Insulin', data=df);"
   ]
  },
  {
   "cell_type": "markdown",
   "id": "05bf5985",
   "metadata": {},
   "source": [
    "There seems to be slightly higher values of insulin levels for diabetic women. However, this might be a reflection that we replaced a large number of missing data by normally distributed values. "
   ]
  },
  {
   "cell_type": "markdown",
   "id": "b95f3eb3",
   "metadata": {},
   "source": [
    "Finally, let us check if our dataset is imbalaced, with too many patients with our without diabetes."
   ]
  },
  {
   "cell_type": "code",
   "execution_count": 207,
   "id": "aa45dc42",
   "metadata": {},
   "outputs": [
    {
     "data": {
      "image/png": "[encoded data removed]",
      "text/plain": [
       "<Figure size 432x288 with 1 Axes>"
      ]
     },
     "metadata": {},
     "output_type": "display_data"
    }
   ],
   "source": [
    "sns.countplot(x='Outcome', data=df_impute);"
   ]
  },
  {
   "cell_type": "markdown",
   "id": "c40b0f54",
   "metadata": {},
   "source": [
    "There is a relative imbalance, but we still have a good proportion of diabetic patients to achieve an accurate machine learning."
   ]
  },
  {
   "cell_type": "markdown",
   "id": "61f2182f",
   "metadata": {},
   "source": [
    "## 2. Machine Learning Prediction"
   ]
  },
  {
   "cell_type": "markdown",
   "id": "070f555c",
   "metadata": {},
   "source": [
    "Now let us start our ML pipeline using scikit-learn. This will involve 2 steps:  scaling and training the data. We train the data using Logistic Regression, and use GridSearchCV to do hyperparameter estimation and cross-validation, all in one single pipeline."
   ]
  },
  {
   "cell_type": "code",
   "execution_count": 192,
   "id": "104dc200",
   "metadata": {},
   "outputs": [
    {
     "name": "stdout",
     "output_type": "stream",
     "text": [
      "Tuned LogisticRegression Parameters: {'logreg__C': 0.05179474679231213, 'logreg__tol': 0.1}\n",
      "Tuned LogisticRegression R squared: 0.7467532467532467\n",
      "\n",
      "               precision    recall  f1-score   support\n",
      "\n",
      "           0       0.80      0.83      0.81       206\n",
      "           1       0.63      0.58      0.60       102\n",
      "\n",
      "    accuracy                           0.75       308\n",
      "   macro avg       0.71      0.70      0.71       308\n",
      "weighted avg       0.74      0.75      0.74       308\n",
      "\n"
     ]
    }
   ],
   "source": [
    "from sklearn.pipeline import Pipeline\n",
    "#from sklearn.impute import SimpleImputer\n",
    "from sklearn.preprocessing import StandardScaler\n",
    "from sklearn.linear_model import LogisticRegression\n",
    "from sklearn.model_selection import train_test_split, GridSearchCV\n",
    "from sklearn.metrics import classification_report, confusion_matrix\n",
    "\n",
    "# Define input data with target = diabetes\n",
    "X = df.drop(['Outcome'], axis=1).values\n",
    "y = df.Outcome.values\n",
    "\n",
    "# Define the pipeline steps and call it\n",
    "steps = [#('imp', SimpleImputer(missing_values=np.nan, strategy='mean')),\\\n",
    "         ('scale', StandardScaler()), ('logreg', LogisticRegression())]\n",
    "pipeline = Pipeline(steps)\n",
    "\n",
    "# Specify the hyperparameter space\n",
    "max_iter = [100, 200, 300]\n",
    "tol = [0.1, 0.01, 0.001]\n",
    "c_space = np.logspace(-5, 8, 15)\n",
    "#parameters = {'logreg__max_iter': max_iter, 'logreg__tol':tol, 'logreg__C': c_space} #, 'logreg__penalty': ['l1', 'l2']\n",
    "parameters = {'logreg__tol': tol, 'logreg__C': c_space}\n",
    "\n",
    "# Split Train and Test data\n",
    "X_train, X_test, y_train, y_test = train_test_split(X, y, test_size=0.4, random_state=42)\n",
    "\n",
    "# Create GridSearchCV object\n",
    "logreg_grid_cv = GridSearchCV(pipeline, parameters, cv=5)\n",
    "\n",
    "# Fit to the training set\n",
    "logreg_grid_cv.fit(X_train, y_train)\n",
    "\n",
    "# Predict\n",
    "y_pred = logreg_grid_cv.predict(X_test)\n",
    "\n",
    "# Compute and print the metrics\n",
    "r2 = logreg_grid_cv.score(X_test, y_test)\n",
    "print(\"Tuned LogisticRegression Parameters: {}\".format(logreg_grid_cv.best_params_))\n",
    "print(\"Tuned LogisticRegression R squared: {}\".format(r2))\n",
    "print(\"\\n\", classification_report(y_test, y_pred))"
   ]
  },
  {
   "cell_type": "code",
   "execution_count": 193,
   "id": "6d4456d3",
   "metadata": {},
   "outputs": [
    {
     "data": {
      "text/plain": [
       "0.7717391304347826"
      ]
     },
     "execution_count": 193,
     "metadata": {},
     "output_type": "execute_result"
    }
   ],
   "source": [
    "logreg_grid_cv.best_score_"
   ]
  },
  {
   "cell_type": "markdown",
   "id": "9a0f0e3a",
   "metadata": {},
   "source": [
    "The confusion matrix is defined by\n",
    "\n",
    "|             | predicted: real | predicted: spam |\n",
    "|-------------|-----------------|-----------------|\n",
    "| actual real | True Negatives  | False Positives |\n",
    "| actual spam | False Negatives | True positives  |"
   ]
  },
  {
   "cell_type": "code",
   "execution_count": 194,
   "id": "efa66093",
   "metadata": {},
   "outputs": [
    {
     "name": "stdout",
     "output_type": "stream",
     "text": [
      "[[171  35]\n",
      " [ 43  59]]\n"
     ]
    }
   ],
   "source": [
    "cfs = confusion_matrix(y_test, y_pred)\n",
    "print(cfs)"
   ]
  },
  {
   "cell_type": "markdown",
   "id": "d52f270c",
   "metadata": {},
   "source": [
    "From this we can compute the Sensitivity, or percentage of True Positives (tp), and Specificity, or percentage of True Negatives (tn), of our test\n",
    "\n",
    "$$ \\text{Sensitivity} = \\frac{tp}{tp + fn}, \\quad \\text{Specificity} = \\frac{tn}{tn + fp} $$"
   ]
  },
  {
   "cell_type": "code",
   "execution_count": 204,
   "id": "211118ae",
   "metadata": {},
   "outputs": [
    {
     "name": "stdout",
     "output_type": "stream",
     "text": [
      "The Sensitivity is 57.84313725490197% \n",
      "The Specificity is 83.00970873786407%\n"
     ]
    }
   ],
   "source": [
    "sens = cfs[1,1]/(cfs[1,1]+cfs[1,0])\n",
    "spec = cfs[0,0]/(cfs[0,0]+cfs[0,1])\n",
    "print(\"The Sensitivity is {}%\".format(100*sens), \"\\nThe Specificity is {}%\".format(100*spec))"
   ]
  },
  {
   "cell_type": "markdown",
   "id": "ce099000",
   "metadata": {},
   "source": [
    "These match the Recall values in the classification report."
   ]
  },
  {
   "cell_type": "markdown",
   "id": "e20fe52d",
   "metadata": {},
   "source": [
    "Let us compute the ROC curve and the area under the curve, which is a score of how good is our model."
   ]
  },
  {
   "cell_type": "code",
   "execution_count": 205,
   "id": "0a8d29bb",
   "metadata": {},
   "outputs": [
    {
     "data": {
      "image/png": "[encoded data removed]",
      "text/plain": [
       "<Figure size 432x288 with 1 Axes>"
      ]
     },
     "metadata": {},
     "output_type": "display_data"
    },
    {
     "name": "stdout",
     "output_type": "stream",
     "text": [
      "Area under the curve (AUC) = 0.8214829621168855\n"
     ]
    }
   ],
   "source": [
    "from sklearn.metrics import roc_curve, roc_auc_score\n",
    "\n",
    "# Compute predicted probabilities\n",
    "y_pred_prob = logreg_grid_cv.predict_proba(X_test)[:,1]\n",
    "\n",
    "# Generate ROC curve values: false positive ratio, true positive ratio, thresholds\n",
    "fpr, tpr, thresholds = roc_curve(y_test, y_pred_prob)\n",
    "\n",
    "# Plot ROC curve\n",
    "plt.plot([0, 1], [0, 1], 'k--')\n",
    "plt.plot(fpr, tpr)\n",
    "plt.plot(1-spec, sens, marker='o', label='GridSearchCV result')\n",
    "plt.xlabel('False Positive Rate (1 - Specificity)')\n",
    "plt.ylabel('True Positive Rate (Sensitivity)')\n",
    "plt.title('ROC Curve')\n",
    "plt.legend()\n",
    "plt.show()\n",
    "\n",
    "print(\"Area under the curve (AUC) =\", roc_auc_score(y_test, y_pred_prob))"
   ]
  },
  {
   "cell_type": "markdown",
   "id": "58b46283",
   "metadata": {},
   "source": [
    "A perfect model has AUC equal to 1, which would be only true positives, no false positives. Therefore, our result of 0.82 is quite good to predict diabetes."
   ]
  },
  {
   "cell_type": "markdown",
   "id": "55e107d3",
   "metadata": {},
   "source": [
    "## Next steps\n",
    "- Test different models.\n",
    "- Use an Ensemble technique.\n",
    "- Try a Boosting technique."
   ]
  },
  {
   "cell_type": "code",
   "execution_count": null,
   "id": "9488dcbd",
   "metadata": {},
   "outputs": [],
   "source": []
  }
 ],
 "metadata": {
  "kernelspec": {
   "display_name": "Python [conda env:root] *",
   "language": "python",
   "name": "conda-root-py"
  },
  "language_info": {
   "codemirror_mode": {
    "name": "ipython",
    "version": 3
   },
   "file_extension": ".py",
   "mimetype": "text/x-python",
   "name": "python",
   "nbconvert_exporter": "python",
   "pygments_lexer": "ipython3",
   "version": "3.7.10"
  }
 },
 "nbformat": 4,
 "nbformat_minor": 5
}
